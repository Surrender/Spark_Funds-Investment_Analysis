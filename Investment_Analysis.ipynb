{
 "cells": [
  {
   "cell_type": "markdown",
   "metadata": {},
   "source": [
    "# Investment Assginment"
   ]
  },
  {
   "cell_type": "code",
   "execution_count": 1,
   "metadata": {},
   "outputs": [],
   "source": [
    "# import required python libraries\n",
    "import pandas as pd\n",
    "import chardet\n",
    "import seaborn as sns\n",
    "import matplotlib.pyplot as plt"
   ]
  },
  {
   "cell_type": "code",
   "execution_count": 2,
   "metadata": {},
   "outputs": [],
   "source": [
    "# input file paths\n",
    "companies_file = r\".\\data\\companies.csv\"\n",
    "rounds2_file = r\".\\data\\rounds2.csv\"\n",
    "mapping_file = r\".\\data\\mapping.csv\""
   ]
  },
  {
   "cell_type": "code",
   "execution_count": 3,
   "metadata": {},
   "outputs": [
    {
     "data": {
      "text/plain": [
       "'Windows-1254'"
      ]
     },
     "execution_count": 3,
     "metadata": {},
     "output_type": "execute_result"
    }
   ],
   "source": [
    "# find the file encoding for each file\n",
    "def find_file_encoding(fname):\n",
    "    r_file = open(fname, 'rb').read()\n",
    "    result = chardet.detect(r_file)\n",
    "    charenc = result['encoding']\n",
    "    return charenc\n",
    "\n",
    "find_file_encoding(rounds2_file)\n",
    "\n",
    "# Companies file - 'Windows-1254'\n",
    "# Rounds2 file - 'Windows-1254'\n",
    "# mapping file - 'ascii'"
   ]
  },
  {
   "cell_type": "code",
   "execution_count": 4,
   "metadata": {},
   "outputs": [],
   "source": [
    "# Some error reading companies and rounds 2 file with 'Windows-1254', hence engine option is used\n",
    "encoding1 = \"ISO-8859-1\"\n",
    "companies = pd.read_csv(companies_file, engine= 'python')\n",
    "rounds2 = pd.read_csv(rounds2_file, engine= 'python')"
   ]
  },
  {
   "cell_type": "code",
   "execution_count": 5,
   "metadata": {},
   "outputs": [
    {
     "data": {
      "text/html": [
       "<div>\n",
       "<style scoped>\n",
       "    .dataframe tbody tr th:only-of-type {\n",
       "        vertical-align: middle;\n",
       "    }\n",
       "\n",
       "    .dataframe tbody tr th {\n",
       "        vertical-align: top;\n",
       "    }\n",
       "\n",
       "    .dataframe thead th {\n",
       "        text-align: right;\n",
       "    }\n",
       "</style>\n",
       "<table border=\"1\" class=\"dataframe\">\n",
       "  <thead>\n",
       "    <tr style=\"text-align: right;\">\n",
       "      <th></th>\n",
       "      <th>permalink</th>\n",
       "      <th>name</th>\n",
       "      <th>homepage_url</th>\n",
       "      <th>category_list</th>\n",
       "      <th>status</th>\n",
       "      <th>country_code</th>\n",
       "      <th>state_code</th>\n",
       "      <th>region</th>\n",
       "      <th>city</th>\n",
       "      <th>founded_at</th>\n",
       "    </tr>\n",
       "  </thead>\n",
       "  <tbody>\n",
       "    <tr>\n",
       "      <th>0</th>\n",
       "      <td>/Organization/-Fame</td>\n",
       "      <td>#fame</td>\n",
       "      <td>http://livfame.com</td>\n",
       "      <td>Media</td>\n",
       "      <td>operating</td>\n",
       "      <td>IND</td>\n",
       "      <td>16</td>\n",
       "      <td>Mumbai</td>\n",
       "      <td>Mumbai</td>\n",
       "      <td>NaN</td>\n",
       "    </tr>\n",
       "    <tr>\n",
       "      <th>1</th>\n",
       "      <td>/Organization/-Qounter</td>\n",
       "      <td>:Qounter</td>\n",
       "      <td>http://www.qounter.com</td>\n",
       "      <td>Application Platforms|Real Time|Social Network...</td>\n",
       "      <td>operating</td>\n",
       "      <td>USA</td>\n",
       "      <td>DE</td>\n",
       "      <td>DE - Other</td>\n",
       "      <td>Delaware City</td>\n",
       "      <td>04-09-2014</td>\n",
       "    </tr>\n",
       "    <tr>\n",
       "      <th>2</th>\n",
       "      <td>/Organization/-The-One-Of-Them-Inc-</td>\n",
       "      <td>(THE) ONE of THEM,Inc.</td>\n",
       "      <td>http://oneofthem.jp</td>\n",
       "      <td>Apps|Games|Mobile</td>\n",
       "      <td>operating</td>\n",
       "      <td>NaN</td>\n",
       "      <td>NaN</td>\n",
       "      <td>NaN</td>\n",
       "      <td>NaN</td>\n",
       "      <td>NaN</td>\n",
       "    </tr>\n",
       "    <tr>\n",
       "      <th>3</th>\n",
       "      <td>/Organization/0-6-Com</td>\n",
       "      <td>0-6.com</td>\n",
       "      <td>http://www.0-6.com</td>\n",
       "      <td>Curated Web</td>\n",
       "      <td>operating</td>\n",
       "      <td>CHN</td>\n",
       "      <td>22</td>\n",
       "      <td>Beijing</td>\n",
       "      <td>Beijing</td>\n",
       "      <td>01-01-2007</td>\n",
       "    </tr>\n",
       "    <tr>\n",
       "      <th>4</th>\n",
       "      <td>/Organization/004-Technologies</td>\n",
       "      <td>004 Technologies</td>\n",
       "      <td>http://004gmbh.de/en/004-interact</td>\n",
       "      <td>Software</td>\n",
       "      <td>operating</td>\n",
       "      <td>USA</td>\n",
       "      <td>IL</td>\n",
       "      <td>Springfield, Illinois</td>\n",
       "      <td>Champaign</td>\n",
       "      <td>01-01-2010</td>\n",
       "    </tr>\n",
       "  </tbody>\n",
       "</table>\n",
       "</div>"
      ],
      "text/plain": [
       "                             permalink                    name  \\\n",
       "0                  /Organization/-Fame                   #fame   \n",
       "1               /Organization/-Qounter                :Qounter   \n",
       "2  /Organization/-The-One-Of-Them-Inc-  (THE) ONE of THEM,Inc.   \n",
       "3                /Organization/0-6-Com                 0-6.com   \n",
       "4       /Organization/004-Technologies        004 Technologies   \n",
       "\n",
       "                        homepage_url  \\\n",
       "0                 http://livfame.com   \n",
       "1             http://www.qounter.com   \n",
       "2                http://oneofthem.jp   \n",
       "3                 http://www.0-6.com   \n",
       "4  http://004gmbh.de/en/004-interact   \n",
       "\n",
       "                                       category_list     status country_code  \\\n",
       "0                                              Media  operating          IND   \n",
       "1  Application Platforms|Real Time|Social Network...  operating          USA   \n",
       "2                                  Apps|Games|Mobile  operating          NaN   \n",
       "3                                        Curated Web  operating          CHN   \n",
       "4                                           Software  operating          USA   \n",
       "\n",
       "  state_code                 region           city  founded_at  \n",
       "0         16                 Mumbai         Mumbai         NaN  \n",
       "1         DE             DE - Other  Delaware City  04-09-2014  \n",
       "2        NaN                    NaN            NaN         NaN  \n",
       "3         22                Beijing        Beijing  01-01-2007  \n",
       "4         IL  Springfield, Illinois      Champaign  01-01-2010  "
      ]
     },
     "execution_count": 5,
     "metadata": {},
     "output_type": "execute_result"
    }
   ],
   "source": [
    "companies.head()"
   ]
  },
  {
   "cell_type": "code",
   "execution_count": 6,
   "metadata": {},
   "outputs": [
    {
     "data": {
      "text/html": [
       "<div>\n",
       "<style scoped>\n",
       "    .dataframe tbody tr th:only-of-type {\n",
       "        vertical-align: middle;\n",
       "    }\n",
       "\n",
       "    .dataframe tbody tr th {\n",
       "        vertical-align: top;\n",
       "    }\n",
       "\n",
       "    .dataframe thead th {\n",
       "        text-align: right;\n",
       "    }\n",
       "</style>\n",
       "<table border=\"1\" class=\"dataframe\">\n",
       "  <thead>\n",
       "    <tr style=\"text-align: right;\">\n",
       "      <th></th>\n",
       "      <th>company_permalink</th>\n",
       "      <th>funding_round_permalink</th>\n",
       "      <th>funding_round_type</th>\n",
       "      <th>funding_round_code</th>\n",
       "      <th>funded_at</th>\n",
       "      <th>raised_amount_usd</th>\n",
       "    </tr>\n",
       "  </thead>\n",
       "  <tbody>\n",
       "    <tr>\n",
       "      <th>114944</th>\n",
       "      <td>/organization/zzzzapp-com</td>\n",
       "      <td>/funding-round/8f6d25b8ee4199e586484d817bceda05</td>\n",
       "      <td>convertible_note</td>\n",
       "      <td>NaN</td>\n",
       "      <td>01-03-2014</td>\n",
       "      <td>41313.0</td>\n",
       "    </tr>\n",
       "    <tr>\n",
       "      <th>114945</th>\n",
       "      <td>/ORGANIZATION/ZZZZAPP-COM</td>\n",
       "      <td>/funding-round/ff1aa06ed5da186c84f101549035d4ae</td>\n",
       "      <td>seed</td>\n",
       "      <td>NaN</td>\n",
       "      <td>01-05-2013</td>\n",
       "      <td>32842.0</td>\n",
       "    </tr>\n",
       "    <tr>\n",
       "      <th>114946</th>\n",
       "      <td>/organization/ã�eron</td>\n",
       "      <td>/funding-round/59f4dce44723b794f21ded3daed6e4fe</td>\n",
       "      <td>venture</td>\n",
       "      <td>A</td>\n",
       "      <td>01-08-2014</td>\n",
       "      <td>NaN</td>\n",
       "    </tr>\n",
       "    <tr>\n",
       "      <th>114947</th>\n",
       "      <td>/ORGANIZATION/Ã”ASYS-2</td>\n",
       "      <td>/funding-round/35f09d0794651719b02bbfd859ba9ff5</td>\n",
       "      <td>seed</td>\n",
       "      <td>NaN</td>\n",
       "      <td>01-01-2015</td>\n",
       "      <td>18192.0</td>\n",
       "    </tr>\n",
       "    <tr>\n",
       "      <th>114948</th>\n",
       "      <td>/organization/ä°novatiff-reklam-ve-tanä±tä±m-h...</td>\n",
       "      <td>/funding-round/af942869878d2cd788ef5189b435ebc4</td>\n",
       "      <td>grant</td>\n",
       "      <td>NaN</td>\n",
       "      <td>01-10-2013</td>\n",
       "      <td>14851.0</td>\n",
       "    </tr>\n",
       "  </tbody>\n",
       "</table>\n",
       "</div>"
      ],
      "text/plain": [
       "                                        company_permalink  \\\n",
       "114944                          /organization/zzzzapp-com   \n",
       "114945                          /ORGANIZATION/ZZZZAPP-COM   \n",
       "114946                               /organization/ã�eron   \n",
       "114947                             /ORGANIZATION/Ã”ASYS-2   \n",
       "114948  /organization/ä°novatiff-reklam-ve-tanä±tä±m-h...   \n",
       "\n",
       "                                funding_round_permalink funding_round_type  \\\n",
       "114944  /funding-round/8f6d25b8ee4199e586484d817bceda05   convertible_note   \n",
       "114945  /funding-round/ff1aa06ed5da186c84f101549035d4ae               seed   \n",
       "114946  /funding-round/59f4dce44723b794f21ded3daed6e4fe            venture   \n",
       "114947  /funding-round/35f09d0794651719b02bbfd859ba9ff5               seed   \n",
       "114948  /funding-round/af942869878d2cd788ef5189b435ebc4              grant   \n",
       "\n",
       "       funding_round_code   funded_at  raised_amount_usd  \n",
       "114944                NaN  01-03-2014            41313.0  \n",
       "114945                NaN  01-05-2013            32842.0  \n",
       "114946                  A  01-08-2014                NaN  \n",
       "114947                NaN  01-01-2015            18192.0  \n",
       "114948                NaN  01-10-2013            14851.0  "
      ]
     },
     "execution_count": 6,
     "metadata": {},
     "output_type": "execute_result"
    }
   ],
   "source": [
    "rounds2.tail()"
   ]
  },
  {
   "cell_type": "markdown",
   "metadata": {},
   "source": [
    "# Checkpoint 1: Data Cleaning 1"
   ]
  },
  {
   "cell_type": "code",
   "execution_count": 7,
   "metadata": {},
   "outputs": [
    {
     "data": {
      "text/plain": [
       "(66368,)"
      ]
     },
     "execution_count": 7,
     "metadata": {},
     "output_type": "execute_result"
    }
   ],
   "source": [
    "# Use permalink as unique key for companies and rounds2\n",
    "# Convert permalink to lower case\n",
    "companies[\"permalink\"] = companies[\"permalink\"].apply(lambda x: x.lower())\n",
    "rounds2[\"company_permalink\"] = rounds2[\"company_permalink\"].apply(lambda x: x.lower())\n",
    "\n",
    "# Find unique companies in rounds2 \n",
    "rounds2[\"permalink_encoded\"] = rounds2[\"company_permalink\"].apply(lambda x: x.encode('unicode_escape', 'strict'))\n",
    "rounds2[\"permalink_encoded\"].unique().shape"
   ]
  },
  {
   "cell_type": "code",
   "execution_count": 8,
   "metadata": {},
   "outputs": [
    {
     "data": {
      "text/plain": [
       "(66368,)"
      ]
     },
     "execution_count": 8,
     "metadata": {},
     "output_type": "execute_result"
    }
   ],
   "source": [
    "# Find unique companies in companies file \n",
    "companies[\"permalink_encoded\"] = companies[\"permalink\"].apply(lambda x: x.encode('unicode_escape', 'strict'))\n",
    "companies[\"permalink_encoded\"].unique().shape"
   ]
  },
  {
   "cell_type": "code",
   "execution_count": 9,
   "metadata": {},
   "outputs": [
    {
     "name": "stdout",
     "output_type": "stream",
     "text": [
      "set()\n",
      "set()\n"
     ]
    }
   ],
   "source": [
    "# Find if there any companies in the rounds2 file which are not present in companies?\n",
    "setC = set(companies[\"permalink_encoded\"])\n",
    "setR = set(rounds2[\"permalink_encoded\"])\n",
    "print(setC.difference(setR))\n",
    "print(setR.difference(setC))"
   ]
  },
  {
   "cell_type": "code",
   "execution_count": 10,
   "metadata": {},
   "outputs": [
    {
     "data": {
      "text/plain": [
       "(114949, 17)"
      ]
     },
     "execution_count": 10,
     "metadata": {},
     "output_type": "execute_result"
    }
   ],
   "source": [
    "# Merge the two data frames\n",
    "master_frame = pd.merge(rounds2, companies, on='permalink_encoded',how='left',suffixes=('_left','_right'))\n",
    "master_frame.shape"
   ]
  },
  {
   "cell_type": "markdown",
   "metadata": {},
   "source": [
    "# Checkpoint 2: Funding Type Analysis"
   ]
  },
  {
   "cell_type": "code",
   "execution_count": 11,
   "metadata": {},
   "outputs": [
    {
     "data": {
      "text/html": [
       "<div>\n",
       "<style scoped>\n",
       "    .dataframe tbody tr th:only-of-type {\n",
       "        vertical-align: middle;\n",
       "    }\n",
       "\n",
       "    .dataframe tbody tr th {\n",
       "        vertical-align: top;\n",
       "    }\n",
       "\n",
       "    .dataframe thead tr th {\n",
       "        text-align: left;\n",
       "    }\n",
       "\n",
       "    .dataframe thead tr:last-of-type th {\n",
       "        text-align: right;\n",
       "    }\n",
       "</style>\n",
       "<table border=\"1\" class=\"dataframe\">\n",
       "  <thead>\n",
       "    <tr>\n",
       "      <th></th>\n",
       "      <th colspan=\"8\" halign=\"left\">raised_amount_usd</th>\n",
       "    </tr>\n",
       "    <tr>\n",
       "      <th></th>\n",
       "      <th>count</th>\n",
       "      <th>mean</th>\n",
       "      <th>std</th>\n",
       "      <th>min</th>\n",
       "      <th>25%</th>\n",
       "      <th>50%</th>\n",
       "      <th>75%</th>\n",
       "      <th>max</th>\n",
       "    </tr>\n",
       "    <tr>\n",
       "      <th>funding_round_type</th>\n",
       "      <th></th>\n",
       "      <th></th>\n",
       "      <th></th>\n",
       "      <th></th>\n",
       "      <th></th>\n",
       "      <th></th>\n",
       "      <th></th>\n",
       "      <th></th>\n",
       "    </tr>\n",
       "  </thead>\n",
       "  <tbody>\n",
       "    <tr>\n",
       "      <th>angel</th>\n",
       "      <td>2229.0</td>\n",
       "      <td>1.646911e+06</td>\n",
       "      <td>3.006388e+06</td>\n",
       "      <td>500000.0</td>\n",
       "      <td>653426.0</td>\n",
       "      <td>1000000.0</td>\n",
       "      <td>1633097.00</td>\n",
       "      <td>63590263.0</td>\n",
       "    </tr>\n",
       "    <tr>\n",
       "      <th>private_equity</th>\n",
       "      <td>1610.0</td>\n",
       "      <td>3.598456e+07</td>\n",
       "      <td>3.902047e+07</td>\n",
       "      <td>500000.0</td>\n",
       "      <td>5968334.5</td>\n",
       "      <td>18382000.0</td>\n",
       "      <td>59755068.25</td>\n",
       "      <td>150000000.0</td>\n",
       "    </tr>\n",
       "    <tr>\n",
       "      <th>seed</th>\n",
       "      <td>9673.0</td>\n",
       "      <td>1.546603e+06</td>\n",
       "      <td>2.595150e+06</td>\n",
       "      <td>500000.0</td>\n",
       "      <td>747936.0</td>\n",
       "      <td>1100000.0</td>\n",
       "      <td>1880000.00</td>\n",
       "      <td>130000000.0</td>\n",
       "    </tr>\n",
       "    <tr>\n",
       "      <th>venture</th>\n",
       "      <td>45216.0</td>\n",
       "      <td>1.094656e+07</td>\n",
       "      <td>1.524231e+07</td>\n",
       "      <td>500000.0</td>\n",
       "      <td>2400000.0</td>\n",
       "      <td>5817119.0</td>\n",
       "      <td>13000000.00</td>\n",
       "      <td>150000000.0</td>\n",
       "    </tr>\n",
       "  </tbody>\n",
       "</table>\n",
       "</div>"
      ],
      "text/plain": [
       "                   raised_amount_usd                                        \\\n",
       "                               count          mean           std       min   \n",
       "funding_round_type                                                           \n",
       "angel                         2229.0  1.646911e+06  3.006388e+06  500000.0   \n",
       "private_equity                1610.0  3.598456e+07  3.902047e+07  500000.0   \n",
       "seed                          9673.0  1.546603e+06  2.595150e+06  500000.0   \n",
       "venture                      45216.0  1.094656e+07  1.524231e+07  500000.0   \n",
       "\n",
       "                                                                     \n",
       "                          25%         50%          75%          max  \n",
       "funding_round_type                                                   \n",
       "angel                653426.0   1000000.0   1633097.00   63590263.0  \n",
       "private_equity      5968334.5  18382000.0  59755068.25  150000000.0  \n",
       "seed                 747936.0   1100000.0   1880000.00  130000000.0  \n",
       "venture             2400000.0   5817119.0  13000000.00  150000000.0  "
      ]
     },
     "execution_count": 11,
     "metadata": {},
     "output_type": "execute_result"
    }
   ],
   "source": [
    "# Spark Funds wants to choose one of these four investment types - seed, angel, venture and private_equity\n",
    "df = master_frame[master_frame[\"funding_round_type\"].isin([\"seed\", \"angel\", \"venture\", \"private_equity\"])]\n",
    "\n",
    "# Remove rows having Null values\n",
    "df = df[~df[\"raised_amount_usd\"].isnull()]\n",
    "\n",
    "# Spark Funds wants to invest between 5 to 15 million USD per investment round\n",
    "# Remove outliers having funding value less than 500k and 150 Million\n",
    "master_frame = df[((df[\"raised_amount_usd\"] >= 5E5) & (df[\"raised_amount_usd\"] <= 1.5E8))]\n",
    "\n",
    "# Summary statistics\n",
    "df_funding = master_frame[[\"company_permalink\", \"funding_round_type\", \"raised_amount_usd\"]]\n",
    "df_funding.groupby(\"funding_round_type\").describe()"
   ]
  },
  {
   "cell_type": "code",
   "execution_count": 12,
   "metadata": {},
   "outputs": [
    {
     "data": {
      "text/plain": [
       "<AxesSubplot:title={'center':'raised_amount_usd'}, xlabel='[funding_round_type]'>"
      ]
     },
     "execution_count": 12,
     "metadata": {},
     "output_type": "execute_result"
    },
    {
     "data": {
      "image/png": "[encoded data removed]",
      "text/plain": [
       "<Figure size 432x288 with 1 Axes>"
      ]
     },
     "metadata": {
      "needs_background": "light"
     },
     "output_type": "display_data"
    }
   ],
   "source": [
    "# Box and Whisker plot to visualize\n",
    "df_funding.boxplot(by='funding_round_type')"
   ]
  },
  {
   "cell_type": "markdown",
   "metadata": {},
   "source": [
    "### The most representative value of the investment amount is mean\n",
    "\n",
    "### The most suitable investment type for Spark Funds is venture type funding"
   ]
  },
  {
   "cell_type": "markdown",
   "metadata": {},
   "source": [
    "# Checkpoint 3: Country Analysis"
   ]
  },
  {
   "cell_type": "code",
   "execution_count": 13,
   "metadata": {},
   "outputs": [
    {
     "data": {
      "text/html": [
       "<div>\n",
       "<style scoped>\n",
       "    .dataframe tbody tr th:only-of-type {\n",
       "        vertical-align: middle;\n",
       "    }\n",
       "\n",
       "    .dataframe tbody tr th {\n",
       "        vertical-align: top;\n",
       "    }\n",
       "\n",
       "    .dataframe thead th {\n",
       "        text-align: right;\n",
       "    }\n",
       "</style>\n",
       "<table border=\"1\" class=\"dataframe\">\n",
       "  <thead>\n",
       "    <tr style=\"text-align: right;\">\n",
       "      <th></th>\n",
       "      <th>index</th>\n",
       "      <th>country_code</th>\n",
       "      <th>raised_amount_usd</th>\n",
       "    </tr>\n",
       "  </thead>\n",
       "  <tbody>\n",
       "    <tr>\n",
       "      <th>0</th>\n",
       "      <td>91</td>\n",
       "      <td>USA</td>\n",
       "      <td>3.569427e+11</td>\n",
       "    </tr>\n",
       "    <tr>\n",
       "      <th>1</th>\n",
       "      <td>15</td>\n",
       "      <td>CHN</td>\n",
       "      <td>2.590326e+10</td>\n",
       "    </tr>\n",
       "    <tr>\n",
       "      <th>2</th>\n",
       "      <td>28</td>\n",
       "      <td>GBR</td>\n",
       "      <td>1.829193e+10</td>\n",
       "    </tr>\n",
       "    <tr>\n",
       "      <th>3</th>\n",
       "      <td>37</td>\n",
       "      <td>IND</td>\n",
       "      <td>1.079229e+10</td>\n",
       "    </tr>\n",
       "    <tr>\n",
       "      <th>4</th>\n",
       "      <td>12</td>\n",
       "      <td>CAN</td>\n",
       "      <td>9.386889e+09</td>\n",
       "    </tr>\n",
       "    <tr>\n",
       "      <th>5</th>\n",
       "      <td>40</td>\n",
       "      <td>ISR</td>\n",
       "      <td>6.903039e+09</td>\n",
       "    </tr>\n",
       "    <tr>\n",
       "      <th>6</th>\n",
       "      <td>27</td>\n",
       "      <td>FRA</td>\n",
       "      <td>6.524318e+09</td>\n",
       "    </tr>\n",
       "    <tr>\n",
       "      <th>7</th>\n",
       "      <td>20</td>\n",
       "      <td>DEU</td>\n",
       "      <td>6.172076e+09</td>\n",
       "    </tr>\n",
       "    <tr>\n",
       "      <th>8</th>\n",
       "      <td>43</td>\n",
       "      <td>JPN</td>\n",
       "      <td>2.888074e+09</td>\n",
       "    </tr>\n",
       "  </tbody>\n",
       "</table>\n",
       "</div>"
      ],
      "text/plain": [
       "   index country_code  raised_amount_usd\n",
       "0     91          USA       3.569427e+11\n",
       "1     15          CHN       2.590326e+10\n",
       "2     28          GBR       1.829193e+10\n",
       "3     37          IND       1.079229e+10\n",
       "4     12          CAN       9.386889e+09\n",
       "5     40          ISR       6.903039e+09\n",
       "6     27          FRA       6.524318e+09\n",
       "7     20          DEU       6.172076e+09\n",
       "8     43          JPN       2.888074e+09"
      ]
     },
     "execution_count": 13,
     "metadata": {},
     "output_type": "execute_result"
    }
   ],
   "source": [
    "# Remove rows having Null values for country_code\n",
    "master_frame = master_frame[~master_frame[\"country_code\"].isnull()]\n",
    "\n",
    "# Filter the dataframe to have venture type funding details\n",
    "df2 = master_frame[master_frame[\"funding_round_type\"] == \"venture\"]\n",
    "\n",
    "# Find the countries that have received the highest total funding\n",
    "df3 = df2[[\"company_permalink\", \"country_code\", \"raised_amount_usd\"]]\n",
    "df4 = df3.groupby(\"country_code\").sum().reset_index()\n",
    "df4 = df4.sort_values(by=\"raised_amount_usd\", ascending=False).reset_index()\n",
    "\n",
    "# select top 9 countries that have received the highest total funding\n",
    "top9 = df4.head(9)\n",
    "top9.head(10)"
   ]
  },
  {
   "cell_type": "markdown",
   "metadata": {},
   "source": [
    "### The top three English-speaking countries that received highest funding are USA, UK and India"
   ]
  },
  {
   "cell_type": "markdown",
   "metadata": {},
   "source": [
    "# Checkpoint 4: Sector Analysis 1"
   ]
  },
  {
   "cell_type": "code",
   "execution_count": 14,
   "metadata": {},
   "outputs": [],
   "source": [
    "# Remove rows having Null values for country_code\n",
    "master_frame = master_frame[~master_frame[\"category_list\"].isnull()]\n",
    "\n",
    "# Extract the primary sector of each category list from the category_list column\n",
    "master_frame[\"primary_sector\"] = master_frame[\"category_list\"].apply(lambda x: x if(x.find(\"|\") == -1) else x[:x.find(\"|\")])\n",
    "\n",
    "# read mapping csv file\n",
    "df_mapping = pd.read_csv(r\"C:\\Users\\DataScience\\data\\Investment_Assignment\\mapping.csv\")\n",
    "df_mapping = df_mapping[~df_mapping[\"category_list\"].isnull()]\n",
    "\n",
    "# fix spelling mistakes 0->na\n",
    "df_mapping[\"category_list\"] = df_mapping[\"category_list\"].apply(lambda x: x if(x.find(\"0\") == -1) else x.replace(\"0\", \"na\"))\n",
    "df_mapping[\"category_list\"] = df_mapping[\"category_list\"].apply(lambda x: x if(x.find(\".na\") == -1) else x.replace(\".na\", \".0\"))\n",
    "df_mapping[\"category_list\"] = df_mapping[\"category_list\"].apply(lambda x: x.lower())\n",
    "\n",
    "# unpivot main sector columns\n",
    "main_sector_list = [\"Automotive & Sports\", \"Blanks\", \"Cleantech / Semiconductors\", \"Entertainment\", \"Health\", \"Manufacturing\",\n",
    "                    \"News, Search and Messaging\", \"Others\", \"Social, Finance, Analytics, Advertising\"]\n",
    "df1 = pd.melt(df_mapping, id_vars=['category_list'], value_vars=main_sector_list, var_name='main_sector')\n",
    "\n",
    "# select rows having 1 for value column\n",
    "df1 = df1[df1[\"value\"] == 1].reset_index()\n",
    "#df1[\"category_list\"].unique().shape"
   ]
  },
  {
   "cell_type": "code",
   "execution_count": 15,
   "metadata": {},
   "outputs": [],
   "source": [
    "# map primary sector to main sector\n",
    "def map_primary_to_mainsector(x):\n",
    "    x=x.lower()\n",
    "    if x in list(df1[\"category_list\"]):\n",
    "        index = df1[df1[\"category_list\"]==x].index[0]\n",
    "        return df1.iloc[index, 2]\n",
    "    else:\n",
    "        return \"Not Present\"\n",
    "    \n",
    "\n",
    "master_frame[\"main_sector\"] = master_frame[\"primary_sector\"].apply(map_primary_to_mainsector)"
   ]
  },
  {
   "cell_type": "code",
   "execution_count": 16,
   "metadata": {},
   "outputs": [
    {
     "data": {
      "text/html": [
       "<div>\n",
       "<style scoped>\n",
       "    .dataframe tbody tr th:only-of-type {\n",
       "        vertical-align: middle;\n",
       "    }\n",
       "\n",
       "    .dataframe tbody tr th {\n",
       "        vertical-align: top;\n",
       "    }\n",
       "\n",
       "    .dataframe thead th {\n",
       "        text-align: right;\n",
       "    }\n",
       "</style>\n",
       "<table border=\"1\" class=\"dataframe\">\n",
       "  <thead>\n",
       "    <tr style=\"text-align: right;\">\n",
       "      <th></th>\n",
       "      <th>company_permalink</th>\n",
       "      <th>primary_sector</th>\n",
       "      <th>main_sector</th>\n",
       "    </tr>\n",
       "  </thead>\n",
       "  <tbody>\n",
       "    <tr>\n",
       "      <th>0</th>\n",
       "      <td>/organization/-fame</td>\n",
       "      <td>Media</td>\n",
       "      <td>Entertainment</td>\n",
       "    </tr>\n",
       "    <tr>\n",
       "      <th>2</th>\n",
       "      <td>/organization/-qounter</td>\n",
       "      <td>Application Platforms</td>\n",
       "      <td>News, Search and Messaging</td>\n",
       "    </tr>\n",
       "    <tr>\n",
       "      <th>4</th>\n",
       "      <td>/organization/0-6-com</td>\n",
       "      <td>Curated Web</td>\n",
       "      <td>News, Search and Messaging</td>\n",
       "    </tr>\n",
       "    <tr>\n",
       "      <th>8</th>\n",
       "      <td>/organization/0ndine-biomedical-inc</td>\n",
       "      <td>Biotechnology</td>\n",
       "      <td>Cleantech / Semiconductors</td>\n",
       "    </tr>\n",
       "    <tr>\n",
       "      <th>9</th>\n",
       "      <td>/organization/0xdata</td>\n",
       "      <td>Analytics</td>\n",
       "      <td>Social, Finance, Analytics, Advertising</td>\n",
       "    </tr>\n",
       "  </tbody>\n",
       "</table>\n",
       "</div>"
      ],
      "text/plain": [
       "                     company_permalink         primary_sector  \\\n",
       "0                  /organization/-fame                  Media   \n",
       "2               /organization/-qounter  Application Platforms   \n",
       "4                /organization/0-6-com            Curated Web   \n",
       "8  /organization/0ndine-biomedical-inc          Biotechnology   \n",
       "9                 /organization/0xdata              Analytics   \n",
       "\n",
       "                               main_sector  \n",
       "0                            Entertainment  \n",
       "2               News, Search and Messaging  \n",
       "4               News, Search and Messaging  \n",
       "8               Cleantech / Semiconductors  \n",
       "9  Social, Finance, Analytics, Advertising  "
      ]
     },
     "execution_count": 16,
     "metadata": {},
     "output_type": "execute_result"
    }
   ],
   "source": [
    "# Filter the primary sectors which are not listed in mapping.csv file\n",
    "master_frame = master_frame[master_frame[\"main_sector\"] != \"Not Present\"]\n",
    "df2 = master_frame[[\"company_permalink\", \"primary_sector\", \"main_sector\"]]\n",
    "df2.head()"
   ]
  },
  {
   "cell_type": "markdown",
   "metadata": {},
   "source": [
    "# Checkpoint 5: Sector Analysis 2"
   ]
  },
  {
   "cell_type": "markdown",
   "metadata": {},
   "source": [
    "## Create three separate data frames D1, D2 and D3 for each of the three countries containing the observations of funding type FT falling within the 5-15 million USD range"
   ]
  },
  {
   "cell_type": "code",
   "execution_count": 17,
   "metadata": {},
   "outputs": [
    {
     "name": "stdout",
     "output_type": "stream",
     "text": [
      "Country1 = USA\n",
      "12063\n",
      "107757097294.0\n"
     ]
    },
    {
     "data": {
      "text/html": [
       "<div>\n",
       "<style scoped>\n",
       "    .dataframe tbody tr th:only-of-type {\n",
       "        vertical-align: middle;\n",
       "    }\n",
       "\n",
       "    .dataframe tbody tr th {\n",
       "        vertical-align: top;\n",
       "    }\n",
       "\n",
       "    .dataframe thead th {\n",
       "        text-align: right;\n",
       "    }\n",
       "</style>\n",
       "<table border=\"1\" class=\"dataframe\">\n",
       "  <thead>\n",
       "    <tr style=\"text-align: right;\">\n",
       "      <th></th>\n",
       "      <th>index</th>\n",
       "      <th>main_sector</th>\n",
       "      <th>count</th>\n",
       "    </tr>\n",
       "  </thead>\n",
       "  <tbody>\n",
       "    <tr>\n",
       "      <th>0</th>\n",
       "      <td>6</td>\n",
       "      <td>Others</td>\n",
       "      <td>2950</td>\n",
       "    </tr>\n",
       "    <tr>\n",
       "      <th>1</th>\n",
       "      <td>7</td>\n",
       "      <td>Social, Finance, Analytics, Advertising</td>\n",
       "      <td>2714</td>\n",
       "    </tr>\n",
       "    <tr>\n",
       "      <th>2</th>\n",
       "      <td>1</td>\n",
       "      <td>Cleantech / Semiconductors</td>\n",
       "      <td>2350</td>\n",
       "    </tr>\n",
       "    <tr>\n",
       "      <th>3</th>\n",
       "      <td>5</td>\n",
       "      <td>News, Search and Messaging</td>\n",
       "      <td>1583</td>\n",
       "    </tr>\n",
       "    <tr>\n",
       "      <th>4</th>\n",
       "      <td>3</td>\n",
       "      <td>Health</td>\n",
       "      <td>909</td>\n",
       "    </tr>\n",
       "    <tr>\n",
       "      <th>5</th>\n",
       "      <td>4</td>\n",
       "      <td>Manufacturing</td>\n",
       "      <td>799</td>\n",
       "    </tr>\n",
       "    <tr>\n",
       "      <th>6</th>\n",
       "      <td>2</td>\n",
       "      <td>Entertainment</td>\n",
       "      <td>591</td>\n",
       "    </tr>\n",
       "    <tr>\n",
       "      <th>7</th>\n",
       "      <td>0</td>\n",
       "      <td>Automotive &amp; Sports</td>\n",
       "      <td>167</td>\n",
       "    </tr>\n",
       "  </tbody>\n",
       "</table>\n",
       "</div>"
      ],
      "text/plain": [
       "   index                              main_sector  count\n",
       "0      6                                   Others   2950\n",
       "1      7  Social, Finance, Analytics, Advertising   2714\n",
       "2      1               Cleantech / Semiconductors   2350\n",
       "3      5               News, Search and Messaging   1583\n",
       "4      3                                   Health    909\n",
       "5      4                            Manufacturing    799\n",
       "6      2                            Entertainment    591\n",
       "7      0                      Automotive & Sports    167"
      ]
     },
     "execution_count": 17,
     "metadata": {},
     "output_type": "execute_result"
    }
   ],
   "source": [
    "D1 = master_frame[((master_frame[\"country_code\"]==\"USA\") & (master_frame[\"funding_round_type\"]==\"venture\")\n",
    "                  & (master_frame[\"raised_amount_usd\"]>=5E6) & (master_frame[\"raised_amount_usd\"]<=1.5E7))]\n",
    "\n",
    "print(\"Country1 = USA\")\n",
    "print(D1[\"raised_amount_usd\"].count())\n",
    "print(D1[\"raised_amount_usd\"].sum())\n",
    "\n",
    "# Find the sectors that have received the highest total funding\n",
    "df = D1[[\"name\",\"main_sector\"]]\n",
    "df1 = df.groupby(\"main_sector\").count().reset_index().rename(columns={'name':'count'})\n",
    "df_sector_usa = df1.sort_values(by=\"count\", ascending=False).reset_index()\n",
    "df_sector_usa"
   ]
  },
  {
   "cell_type": "code",
   "execution_count": 18,
   "metadata": {},
   "outputs": [
    {
     "data": {
      "text/html": [
       "<div>\n",
       "<style scoped>\n",
       "    .dataframe tbody tr th:only-of-type {\n",
       "        vertical-align: middle;\n",
       "    }\n",
       "\n",
       "    .dataframe tbody tr th {\n",
       "        vertical-align: top;\n",
       "    }\n",
       "\n",
       "    .dataframe thead th {\n",
       "        text-align: right;\n",
       "    }\n",
       "</style>\n",
       "<table border=\"1\" class=\"dataframe\">\n",
       "  <thead>\n",
       "    <tr style=\"text-align: right;\">\n",
       "      <th></th>\n",
       "      <th>index</th>\n",
       "      <th>name</th>\n",
       "      <th>total_amount</th>\n",
       "    </tr>\n",
       "  </thead>\n",
       "  <tbody>\n",
       "    <tr>\n",
       "      <th>0</th>\n",
       "      <td>1877</td>\n",
       "      <td>Virtustream</td>\n",
       "      <td>64300000.0</td>\n",
       "    </tr>\n",
       "    <tr>\n",
       "      <th>1</th>\n",
       "      <td>313</td>\n",
       "      <td>Capella Photonics</td>\n",
       "      <td>54968051.0</td>\n",
       "    </tr>\n",
       "    <tr>\n",
       "      <th>2</th>\n",
       "      <td>57</td>\n",
       "      <td>AirTight Networks</td>\n",
       "      <td>54201907.0</td>\n",
       "    </tr>\n",
       "    <tr>\n",
       "      <th>3</th>\n",
       "      <td>1988</td>\n",
       "      <td>deCarta</td>\n",
       "      <td>52100000.0</td>\n",
       "    </tr>\n",
       "    <tr>\n",
       "      <th>4</th>\n",
       "      <td>221</td>\n",
       "      <td>Black Duck Software</td>\n",
       "      <td>51000000.0</td>\n",
       "    </tr>\n",
       "  </tbody>\n",
       "</table>\n",
       "</div>"
      ],
      "text/plain": [
       "   index                 name  total_amount\n",
       "0   1877          Virtustream    64300000.0\n",
       "1    313    Capella Photonics    54968051.0\n",
       "2     57    AirTight Networks    54201907.0\n",
       "3   1988              deCarta    52100000.0\n",
       "4    221  Black Duck Software    51000000.0"
      ]
     },
     "execution_count": 18,
     "metadata": {},
     "output_type": "execute_result"
    }
   ],
   "source": [
    "# Company received highest funding in Others sector\n",
    "df2 = D1[D1[\"main_sector\"] == \"Others\"]\n",
    "df2 = df2[[\"name\",\"raised_amount_usd\"]]\n",
    "df2 = df2.groupby(\"name\").sum().reset_index().rename(columns={'raised_amount_usd':'total_amount'})\n",
    "df2 = df2.sort_values(by=\"total_amount\", ascending=False).reset_index()\n",
    "df2.head()"
   ]
  },
  {
   "cell_type": "code",
   "execution_count": 19,
   "metadata": {},
   "outputs": [
    {
     "data": {
      "text/html": [
       "<div>\n",
       "<style scoped>\n",
       "    .dataframe tbody tr th:only-of-type {\n",
       "        vertical-align: middle;\n",
       "    }\n",
       "\n",
       "    .dataframe tbody tr th {\n",
       "        vertical-align: top;\n",
       "    }\n",
       "\n",
       "    .dataframe thead th {\n",
       "        text-align: right;\n",
       "    }\n",
       "</style>\n",
       "<table border=\"1\" class=\"dataframe\">\n",
       "  <thead>\n",
       "    <tr style=\"text-align: right;\">\n",
       "      <th></th>\n",
       "      <th>index</th>\n",
       "      <th>name</th>\n",
       "      <th>total_amount</th>\n",
       "    </tr>\n",
       "  </thead>\n",
       "  <tbody>\n",
       "    <tr>\n",
       "      <th>0</th>\n",
       "      <td>1321</td>\n",
       "      <td>SST Inc. (Formerly ShotSpotter)</td>\n",
       "      <td>67933006.0</td>\n",
       "    </tr>\n",
       "    <tr>\n",
       "      <th>1</th>\n",
       "      <td>452</td>\n",
       "      <td>Demandbase</td>\n",
       "      <td>63000000.0</td>\n",
       "    </tr>\n",
       "    <tr>\n",
       "      <th>2</th>\n",
       "      <td>754</td>\n",
       "      <td>Intacct</td>\n",
       "      <td>61800000.0</td>\n",
       "    </tr>\n",
       "    <tr>\n",
       "      <th>3</th>\n",
       "      <td>1028</td>\n",
       "      <td>NetBase Solutions</td>\n",
       "      <td>60600000.0</td>\n",
       "    </tr>\n",
       "    <tr>\n",
       "      <th>4</th>\n",
       "      <td>890</td>\n",
       "      <td>Lotame</td>\n",
       "      <td>59700000.0</td>\n",
       "    </tr>\n",
       "  </tbody>\n",
       "</table>\n",
       "</div>"
      ],
      "text/plain": [
       "   index                             name  total_amount\n",
       "0   1321  SST Inc. (Formerly ShotSpotter)    67933006.0\n",
       "1    452                       Demandbase    63000000.0\n",
       "2    754                          Intacct    61800000.0\n",
       "3   1028                NetBase Solutions    60600000.0\n",
       "4    890                           Lotame    59700000.0"
      ]
     },
     "execution_count": 19,
     "metadata": {},
     "output_type": "execute_result"
    }
   ],
   "source": [
    "# Company received highest funding in Social, Finance, Analytics, Advertising sector\n",
    "df2 = D1[D1[\"main_sector\"] == \"Social, Finance, Analytics, Advertising\"]\n",
    "df2 = df2[[\"name\",\"raised_amount_usd\"]]\n",
    "df2 = df2.groupby(\"name\").sum().reset_index().rename(columns={'raised_amount_usd':'total_amount'})\n",
    "df2 = df2.sort_values(by=\"total_amount\", ascending=False).reset_index()\n",
    "df2.head()"
   ]
  },
  {
   "cell_type": "code",
   "execution_count": 20,
   "metadata": {},
   "outputs": [
    {
     "name": "stdout",
     "output_type": "stream",
     "text": [
      "Country2 = GBR\n",
      "621\n",
      "5379078691.0\n"
     ]
    },
    {
     "data": {
      "text/html": [
       "<div>\n",
       "<style scoped>\n",
       "    .dataframe tbody tr th:only-of-type {\n",
       "        vertical-align: middle;\n",
       "    }\n",
       "\n",
       "    .dataframe tbody tr th {\n",
       "        vertical-align: top;\n",
       "    }\n",
       "\n",
       "    .dataframe thead th {\n",
       "        text-align: right;\n",
       "    }\n",
       "</style>\n",
       "<table border=\"1\" class=\"dataframe\">\n",
       "  <thead>\n",
       "    <tr style=\"text-align: right;\">\n",
       "      <th></th>\n",
       "      <th>index</th>\n",
       "      <th>main_sector</th>\n",
       "      <th>count</th>\n",
       "    </tr>\n",
       "  </thead>\n",
       "  <tbody>\n",
       "    <tr>\n",
       "      <th>0</th>\n",
       "      <td>6</td>\n",
       "      <td>Others</td>\n",
       "      <td>147</td>\n",
       "    </tr>\n",
       "    <tr>\n",
       "      <th>1</th>\n",
       "      <td>7</td>\n",
       "      <td>Social, Finance, Analytics, Advertising</td>\n",
       "      <td>133</td>\n",
       "    </tr>\n",
       "    <tr>\n",
       "      <th>2</th>\n",
       "      <td>1</td>\n",
       "      <td>Cleantech / Semiconductors</td>\n",
       "      <td>130</td>\n",
       "    </tr>\n",
       "    <tr>\n",
       "      <th>3</th>\n",
       "      <td>5</td>\n",
       "      <td>News, Search and Messaging</td>\n",
       "      <td>73</td>\n",
       "    </tr>\n",
       "    <tr>\n",
       "      <th>4</th>\n",
       "      <td>2</td>\n",
       "      <td>Entertainment</td>\n",
       "      <td>56</td>\n",
       "    </tr>\n",
       "    <tr>\n",
       "      <th>5</th>\n",
       "      <td>4</td>\n",
       "      <td>Manufacturing</td>\n",
       "      <td>42</td>\n",
       "    </tr>\n",
       "    <tr>\n",
       "      <th>6</th>\n",
       "      <td>3</td>\n",
       "      <td>Health</td>\n",
       "      <td>24</td>\n",
       "    </tr>\n",
       "    <tr>\n",
       "      <th>7</th>\n",
       "      <td>0</td>\n",
       "      <td>Automotive &amp; Sports</td>\n",
       "      <td>16</td>\n",
       "    </tr>\n",
       "  </tbody>\n",
       "</table>\n",
       "</div>"
      ],
      "text/plain": [
       "   index                              main_sector  count\n",
       "0      6                                   Others    147\n",
       "1      7  Social, Finance, Analytics, Advertising    133\n",
       "2      1               Cleantech / Semiconductors    130\n",
       "3      5               News, Search and Messaging     73\n",
       "4      2                            Entertainment     56\n",
       "5      4                            Manufacturing     42\n",
       "6      3                                   Health     24\n",
       "7      0                      Automotive & Sports     16"
      ]
     },
     "execution_count": 20,
     "metadata": {},
     "output_type": "execute_result"
    }
   ],
   "source": [
    "D2 = master_frame[((master_frame[\"country_code\"]==\"GBR\") & (master_frame[\"funding_round_type\"]==\"venture\")\n",
    "                  & (master_frame[\"raised_amount_usd\"]>=5E6) & (master_frame[\"raised_amount_usd\"]<=1.5E7))]\n",
    "\n",
    "print(\"Country2 = GBR\")\n",
    "print(D2[\"raised_amount_usd\"].count())\n",
    "print(D2[\"raised_amount_usd\"].sum())\n",
    "\n",
    "# Find the sectors that have received the highest total funding\n",
    "df = D2[[\"name\",\"main_sector\"]]\n",
    "df1 = df.groupby(\"main_sector\").count().reset_index().rename(columns={'name':'count'})\n",
    "df_sector_gbr = df1.sort_values(by=\"count\", ascending=False).reset_index()\n",
    "df_sector_gbr"
   ]
  },
  {
   "cell_type": "code",
   "execution_count": 21,
   "metadata": {},
   "outputs": [
    {
     "data": {
      "text/html": [
       "<div>\n",
       "<style scoped>\n",
       "    .dataframe tbody tr th:only-of-type {\n",
       "        vertical-align: middle;\n",
       "    }\n",
       "\n",
       "    .dataframe tbody tr th {\n",
       "        vertical-align: top;\n",
       "    }\n",
       "\n",
       "    .dataframe thead th {\n",
       "        text-align: right;\n",
       "    }\n",
       "</style>\n",
       "<table border=\"1\" class=\"dataframe\">\n",
       "  <thead>\n",
       "    <tr style=\"text-align: right;\">\n",
       "      <th></th>\n",
       "      <th>index</th>\n",
       "      <th>name</th>\n",
       "      <th>total_amount</th>\n",
       "    </tr>\n",
       "  </thead>\n",
       "  <tbody>\n",
       "    <tr>\n",
       "      <th>0</th>\n",
       "      <td>31</td>\n",
       "      <td>Electric Cloud</td>\n",
       "      <td>37000000.0</td>\n",
       "    </tr>\n",
       "    <tr>\n",
       "      <th>1</th>\n",
       "      <td>83</td>\n",
       "      <td>SenSage</td>\n",
       "      <td>36250000.0</td>\n",
       "    </tr>\n",
       "    <tr>\n",
       "      <th>2</th>\n",
       "      <td>32</td>\n",
       "      <td>Enigmatec</td>\n",
       "      <td>32500000.0</td>\n",
       "    </tr>\n",
       "    <tr>\n",
       "      <th>3</th>\n",
       "      <td>84</td>\n",
       "      <td>SilverRail Technologies</td>\n",
       "      <td>29000000.0</td>\n",
       "    </tr>\n",
       "    <tr>\n",
       "      <th>4</th>\n",
       "      <td>66</td>\n",
       "      <td>OpenCloud</td>\n",
       "      <td>27972766.0</td>\n",
       "    </tr>\n",
       "  </tbody>\n",
       "</table>\n",
       "</div>"
      ],
      "text/plain": [
       "   index                     name  total_amount\n",
       "0     31           Electric Cloud    37000000.0\n",
       "1     83                  SenSage    36250000.0\n",
       "2     32                Enigmatec    32500000.0\n",
       "3     84  SilverRail Technologies    29000000.0\n",
       "4     66                OpenCloud    27972766.0"
      ]
     },
     "execution_count": 21,
     "metadata": {},
     "output_type": "execute_result"
    }
   ],
   "source": [
    "# Company received highest funding in Others sector\n",
    "df2 = D2[D2[\"main_sector\"] == \"Others\"]\n",
    "df2 = df2[[\"name\",\"raised_amount_usd\"]]\n",
    "df2 = df2.groupby(\"name\").sum().reset_index().rename(columns={'raised_amount_usd':'total_amount'})\n",
    "df2 = df2.sort_values(by=\"total_amount\", ascending=False).reset_index()\n",
    "df2.head()"
   ]
  },
  {
   "cell_type": "code",
   "execution_count": 22,
   "metadata": {},
   "outputs": [
    {
     "data": {
      "text/html": [
       "<div>\n",
       "<style scoped>\n",
       "    .dataframe tbody tr th:only-of-type {\n",
       "        vertical-align: middle;\n",
       "    }\n",
       "\n",
       "    .dataframe tbody tr th {\n",
       "        vertical-align: top;\n",
       "    }\n",
       "\n",
       "    .dataframe thead th {\n",
       "        text-align: right;\n",
       "    }\n",
       "</style>\n",
       "<table border=\"1\" class=\"dataframe\">\n",
       "  <thead>\n",
       "    <tr style=\"text-align: right;\">\n",
       "      <th></th>\n",
       "      <th>index</th>\n",
       "      <th>name</th>\n",
       "      <th>total_amount</th>\n",
       "    </tr>\n",
       "  </thead>\n",
       "  <tbody>\n",
       "    <tr>\n",
       "      <th>0</th>\n",
       "      <td>18</td>\n",
       "      <td>Celltick Technologies</td>\n",
       "      <td>37500000.0</td>\n",
       "    </tr>\n",
       "    <tr>\n",
       "      <th>1</th>\n",
       "      <td>101</td>\n",
       "      <td>myThings</td>\n",
       "      <td>34000000.0</td>\n",
       "    </tr>\n",
       "    <tr>\n",
       "      <th>2</th>\n",
       "      <td>94</td>\n",
       "      <td>Zopa</td>\n",
       "      <td>32900000.0</td>\n",
       "    </tr>\n",
       "    <tr>\n",
       "      <th>3</th>\n",
       "      <td>88</td>\n",
       "      <td>VisualDNA</td>\n",
       "      <td>28550000.0</td>\n",
       "    </tr>\n",
       "    <tr>\n",
       "      <th>4</th>\n",
       "      <td>44</td>\n",
       "      <td>MarketInvoice</td>\n",
       "      <td>25553007.0</td>\n",
       "    </tr>\n",
       "  </tbody>\n",
       "</table>\n",
       "</div>"
      ],
      "text/plain": [
       "   index                   name  total_amount\n",
       "0     18  Celltick Technologies    37500000.0\n",
       "1    101               myThings    34000000.0\n",
       "2     94                   Zopa    32900000.0\n",
       "3     88              VisualDNA    28550000.0\n",
       "4     44          MarketInvoice    25553007.0"
      ]
     },
     "execution_count": 22,
     "metadata": {},
     "output_type": "execute_result"
    }
   ],
   "source": [
    "# Company received highest funding in Social, Finance, Analytics, Advertising sector\n",
    "df2 = D2[D2[\"main_sector\"] == \"Social, Finance, Analytics, Advertising\"]\n",
    "df2 = df2[[\"name\",\"raised_amount_usd\"]]\n",
    "df2 = df2.groupby(\"name\").sum().reset_index().rename(columns={'raised_amount_usd':'total_amount'})\n",
    "df2 = df2.sort_values(by=\"total_amount\", ascending=False).reset_index()\n",
    "df2.head()"
   ]
  },
  {
   "cell_type": "code",
   "execution_count": 23,
   "metadata": {},
   "outputs": [
    {
     "name": "stdout",
     "output_type": "stream",
     "text": [
      "Country3 = IND\n",
      "328\n",
      "2949543602.0\n"
     ]
    },
    {
     "data": {
      "text/html": [
       "<div>\n",
       "<style scoped>\n",
       "    .dataframe tbody tr th:only-of-type {\n",
       "        vertical-align: middle;\n",
       "    }\n",
       "\n",
       "    .dataframe tbody tr th {\n",
       "        vertical-align: top;\n",
       "    }\n",
       "\n",
       "    .dataframe thead th {\n",
       "        text-align: right;\n",
       "    }\n",
       "</style>\n",
       "<table border=\"1\" class=\"dataframe\">\n",
       "  <thead>\n",
       "    <tr style=\"text-align: right;\">\n",
       "      <th></th>\n",
       "      <th>index</th>\n",
       "      <th>main_sector</th>\n",
       "      <th>count</th>\n",
       "    </tr>\n",
       "  </thead>\n",
       "  <tbody>\n",
       "    <tr>\n",
       "      <th>0</th>\n",
       "      <td>6</td>\n",
       "      <td>Others</td>\n",
       "      <td>110</td>\n",
       "    </tr>\n",
       "    <tr>\n",
       "      <th>1</th>\n",
       "      <td>7</td>\n",
       "      <td>Social, Finance, Analytics, Advertising</td>\n",
       "      <td>60</td>\n",
       "    </tr>\n",
       "    <tr>\n",
       "      <th>2</th>\n",
       "      <td>5</td>\n",
       "      <td>News, Search and Messaging</td>\n",
       "      <td>52</td>\n",
       "    </tr>\n",
       "    <tr>\n",
       "      <th>3</th>\n",
       "      <td>2</td>\n",
       "      <td>Entertainment</td>\n",
       "      <td>33</td>\n",
       "    </tr>\n",
       "    <tr>\n",
       "      <th>4</th>\n",
       "      <td>4</td>\n",
       "      <td>Manufacturing</td>\n",
       "      <td>21</td>\n",
       "    </tr>\n",
       "    <tr>\n",
       "      <th>5</th>\n",
       "      <td>1</td>\n",
       "      <td>Cleantech / Semiconductors</td>\n",
       "      <td>20</td>\n",
       "    </tr>\n",
       "    <tr>\n",
       "      <th>6</th>\n",
       "      <td>3</td>\n",
       "      <td>Health</td>\n",
       "      <td>19</td>\n",
       "    </tr>\n",
       "    <tr>\n",
       "      <th>7</th>\n",
       "      <td>0</td>\n",
       "      <td>Automotive &amp; Sports</td>\n",
       "      <td>13</td>\n",
       "    </tr>\n",
       "  </tbody>\n",
       "</table>\n",
       "</div>"
      ],
      "text/plain": [
       "   index                              main_sector  count\n",
       "0      6                                   Others    110\n",
       "1      7  Social, Finance, Analytics, Advertising     60\n",
       "2      5               News, Search and Messaging     52\n",
       "3      2                            Entertainment     33\n",
       "4      4                            Manufacturing     21\n",
       "5      1               Cleantech / Semiconductors     20\n",
       "6      3                                   Health     19\n",
       "7      0                      Automotive & Sports     13"
      ]
     },
     "execution_count": 23,
     "metadata": {},
     "output_type": "execute_result"
    }
   ],
   "source": [
    "D3 = master_frame[((master_frame[\"country_code\"]==\"IND\") & (master_frame[\"funding_round_type\"]==\"venture\")\n",
    "                  & (master_frame[\"raised_amount_usd\"]>=5E6) & (master_frame[\"raised_amount_usd\"]<=1.5E7))]\n",
    "\n",
    "print(\"Country3 = IND\")\n",
    "print(D3[\"raised_amount_usd\"].count())\n",
    "print(D3[\"raised_amount_usd\"].sum())\n",
    "\n",
    "# Find the sectors that have received the highest total funding\n",
    "df = D3[[\"name\",\"main_sector\"]]\n",
    "df1 = df.groupby(\"main_sector\").count().reset_index().rename(columns={'name':'count'})\n",
    "df_sector_ind = df1.sort_values(by=\"count\", ascending=False).reset_index()\n",
    "df_sector_ind"
   ]
  },
  {
   "cell_type": "code",
   "execution_count": 24,
   "metadata": {},
   "outputs": [
    {
     "data": {
      "text/html": [
       "<div>\n",
       "<style scoped>\n",
       "    .dataframe tbody tr th:only-of-type {\n",
       "        vertical-align: middle;\n",
       "    }\n",
       "\n",
       "    .dataframe tbody tr th {\n",
       "        vertical-align: top;\n",
       "    }\n",
       "\n",
       "    .dataframe thead th {\n",
       "        text-align: right;\n",
       "    }\n",
       "</style>\n",
       "<table border=\"1\" class=\"dataframe\">\n",
       "  <thead>\n",
       "    <tr style=\"text-align: right;\">\n",
       "      <th></th>\n",
       "      <th>index</th>\n",
       "      <th>name</th>\n",
       "      <th>total_amount</th>\n",
       "    </tr>\n",
       "  </thead>\n",
       "  <tbody>\n",
       "    <tr>\n",
       "      <th>0</th>\n",
       "      <td>25</td>\n",
       "      <td>FirstCry.com</td>\n",
       "      <td>39000000.0</td>\n",
       "    </tr>\n",
       "    <tr>\n",
       "      <th>1</th>\n",
       "      <td>43</td>\n",
       "      <td>Myntra</td>\n",
       "      <td>38000000.0</td>\n",
       "    </tr>\n",
       "    <tr>\n",
       "      <th>2</th>\n",
       "      <td>15</td>\n",
       "      <td>CommonFloor</td>\n",
       "      <td>32900000.0</td>\n",
       "    </tr>\n",
       "    <tr>\n",
       "      <th>3</th>\n",
       "      <td>54</td>\n",
       "      <td>Pepperfry.com</td>\n",
       "      <td>28000000.0</td>\n",
       "    </tr>\n",
       "    <tr>\n",
       "      <th>4</th>\n",
       "      <td>35</td>\n",
       "      <td>ItzCash Card Ltd.</td>\n",
       "      <td>25000000.0</td>\n",
       "    </tr>\n",
       "  </tbody>\n",
       "</table>\n",
       "</div>"
      ],
      "text/plain": [
       "   index               name  total_amount\n",
       "0     25       FirstCry.com    39000000.0\n",
       "1     43             Myntra    38000000.0\n",
       "2     15        CommonFloor    32900000.0\n",
       "3     54      Pepperfry.com    28000000.0\n",
       "4     35  ItzCash Card Ltd.    25000000.0"
      ]
     },
     "execution_count": 24,
     "metadata": {},
     "output_type": "execute_result"
    }
   ],
   "source": [
    "# Company received highest funding in Others sector\n",
    "df2 = D3[D3[\"main_sector\"] == \"Others\"]\n",
    "df2 = df2[[\"name\",\"raised_amount_usd\"]]\n",
    "df2 = df2.groupby(\"name\").sum().reset_index().rename(columns={'raised_amount_usd':'total_amount'})\n",
    "df2 = df2.sort_values(by=\"total_amount\", ascending=False).reset_index()\n",
    "df2.head()"
   ]
  },
  {
   "cell_type": "code",
   "execution_count": 25,
   "metadata": {},
   "outputs": [
    {
     "data": {
      "text/html": [
       "<div>\n",
       "<style scoped>\n",
       "    .dataframe tbody tr th:only-of-type {\n",
       "        vertical-align: middle;\n",
       "    }\n",
       "\n",
       "    .dataframe tbody tr th {\n",
       "        vertical-align: top;\n",
       "    }\n",
       "\n",
       "    .dataframe thead th {\n",
       "        text-align: right;\n",
       "    }\n",
       "</style>\n",
       "<table border=\"1\" class=\"dataframe\">\n",
       "  <thead>\n",
       "    <tr style=\"text-align: right;\">\n",
       "      <th></th>\n",
       "      <th>index</th>\n",
       "      <th>name</th>\n",
       "      <th>total_amount</th>\n",
       "    </tr>\n",
       "  </thead>\n",
       "  <tbody>\n",
       "    <tr>\n",
       "      <th>0</th>\n",
       "      <td>28</td>\n",
       "      <td>Manthan Systems</td>\n",
       "      <td>50700000.0</td>\n",
       "    </tr>\n",
       "    <tr>\n",
       "      <th>1</th>\n",
       "      <td>25</td>\n",
       "      <td>Komli Media</td>\n",
       "      <td>28000000.0</td>\n",
       "    </tr>\n",
       "    <tr>\n",
       "      <th>2</th>\n",
       "      <td>38</td>\n",
       "      <td>ShopClues.com</td>\n",
       "      <td>25000000.0</td>\n",
       "    </tr>\n",
       "    <tr>\n",
       "      <th>3</th>\n",
       "      <td>46</td>\n",
       "      <td>inTarvo</td>\n",
       "      <td>21900000.0</td>\n",
       "    </tr>\n",
       "    <tr>\n",
       "      <th>4</th>\n",
       "      <td>21</td>\n",
       "      <td>Grameen Financial Services</td>\n",
       "      <td>21556050.0</td>\n",
       "    </tr>\n",
       "  </tbody>\n",
       "</table>\n",
       "</div>"
      ],
      "text/plain": [
       "   index                        name  total_amount\n",
       "0     28             Manthan Systems    50700000.0\n",
       "1     25                 Komli Media    28000000.0\n",
       "2     38               ShopClues.com    25000000.0\n",
       "3     46                     inTarvo    21900000.0\n",
       "4     21  Grameen Financial Services    21556050.0"
      ]
     },
     "execution_count": 25,
     "metadata": {},
     "output_type": "execute_result"
    }
   ],
   "source": [
    "# Company received highest funding in Social, Finance, Analytics, Advertising sector\n",
    "df2 = D3[D3[\"main_sector\"] == \"Social, Finance, Analytics, Advertising\"]\n",
    "df2 = df2[[\"name\",\"raised_amount_usd\"]]\n",
    "df2 = df2.groupby(\"name\").sum().reset_index().rename(columns={'raised_amount_usd':'total_amount'})\n",
    "df2 = df2.sort_values(by=\"total_amount\", ascending=False).reset_index()\n",
    "df2.head()"
   ]
  },
  {
   "cell_type": "markdown",
   "metadata": {},
   "source": [
    "# Checkpoint 6: Plots"
   ]
  },
  {
   "cell_type": "markdown",
   "metadata": {},
   "source": [
    "### 1. A plot showing the fraction of total investments (globally) in angel, venture, seed, and private equity, and the average amount of investment in each funding type. "
   ]
  },
  {
   "cell_type": "code",
   "execution_count": 26,
   "metadata": {},
   "outputs": [
    {
     "data": {
      "image/png": "[encoded data removed]",
      "text/plain": [
       "<Figure size 432x288 with 1 Axes>"
      ]
     },
     "metadata": {},
     "output_type": "display_data"
    }
   ],
   "source": [
    "# Plot showing the fraction of total investments (globally) in angel, venture, seed, and private equity\n",
    "df_total = df_funding.groupby(\"funding_round_type\").sum().reset_index().rename(columns={'raised_amount_usd':'total_amount'})\n",
    "df_total[\"frac_total_amount\"] = df_total[\"total_amount\"]/df_total[\"total_amount\"].sum()\n",
    "\n",
    "sns.set(style=\"whitegrid\")\n",
    "sns.barplot(x=\"funding_round_type\", y=\"frac_total_amount\", data=df_total)\n",
    "plt.title(\"Fraction of total investments\")\n",
    "plt.show()"
   ]
  },
  {
   "cell_type": "code",
   "execution_count": 27,
   "metadata": {},
   "outputs": [
    {
     "data": {
      "image/png": "[encoded data removed]",
      "text/plain": [
       "<Figure size 432x288 with 1 Axes>"
      ]
     },
     "metadata": {},
     "output_type": "display_data"
    }
   ],
   "source": [
    "# Plot showing the average amount of investment in each funding type\n",
    "df_avg = df_funding.groupby(\"funding_round_type\").mean().reset_index().rename(columns={'raised_amount_usd':'avg_amount'})\n",
    "\n",
    "sns.barplot(x=\"funding_round_type\", y=\"avg_amount\", data=df_avg)\n",
    "plt.title(\"Average amount of investment\")\n",
    "plt.show()"
   ]
  },
  {
   "cell_type": "markdown",
   "metadata": {},
   "source": [
    "### 2. A plot showing the top 9 countries against the total amount of investments of funding type FT. "
   ]
  },
  {
   "cell_type": "code",
   "execution_count": 28,
   "metadata": {},
   "outputs": [
    {
     "data": {
      "image/png": "[encoded data removed]",
      "text/plain": [
       "<Figure size 432x288 with 1 Axes>"
      ]
     },
     "metadata": {},
     "output_type": "display_data"
    }
   ],
   "source": [
    "top9 = top9.rename(columns={'raised_amount_usd':'total_amount'})\n",
    "sns.barplot(x=\"country_code\", y=\"total_amount\", data=top9)\n",
    "plt.title(\"Total amount of investment received\")\n",
    "plt.show()"
   ]
  },
  {
   "cell_type": "markdown",
   "metadata": {},
   "source": [
    "### A plot showing the number of investments in the top 3 sectors of the top 3 countries on one chart (for the chosen investment type FT). "
   ]
  },
  {
   "cell_type": "code",
   "execution_count": 29,
   "metadata": {},
   "outputs": [
    {
     "data": {
      "image/png": "[encoded data removed]",
      "text/plain": [
       "<Figure size 720x360 with 1 Axes>"
      ]
     },
     "metadata": {},
     "output_type": "display_data"
    }
   ],
   "source": [
    "df_sector_usa = df_sector_usa[[\"main_sector\", \"count\"]].head(3)\n",
    "df_sector_usa[\"country_code\"] = \"USA\"\n",
    "\n",
    "df_sector_gbr = df_sector_gbr[[\"main_sector\", \"count\"]].head(3)\n",
    "df_sector_gbr[\"country_code\"] = \"GBR\"\n",
    "\n",
    "df_sector_ind = df_sector_ind[[\"main_sector\", \"count\"]].head(3)\n",
    "df_sector_ind[\"country_code\"] = \"IND\"\n",
    "\n",
    "df_concat = pd.concat([df_sector_usa, df_sector_gbr, df_sector_ind]).reset_index()\n",
    "\n",
    "fig, ax = plt.subplots(figsize=(10,5))\n",
    "sns.barplot(x=\"country_code\", y=\"count\", hue = \"main_sector\", data=df_concat, ax=ax)\n",
    "plt.title(\"Total count of investements in top 3 sectors\")\n",
    "plt.show()"
   ]
  },
  {
   "cell_type": "code",
   "execution_count": null,
   "metadata": {},
   "outputs": [],
   "source": []
  }
 ],
 "metadata": {
  "kernelspec": {
   "display_name": "Python 3",
   "language": "python",
   "name": "python3"
  },
  "language_info": {
   "codemirror_mode": {
    "name": "ipython",
    "version": 3
   },
   "file_extension": ".py",
   "mimetype": "text/x-python",
   "name": "python",
   "nbconvert_exporter": "python",
   "pygments_lexer": "ipython3",
   "version": "3.7.9"
  }
 },
 "nbformat": 4,
 "nbformat_minor": 4
}
